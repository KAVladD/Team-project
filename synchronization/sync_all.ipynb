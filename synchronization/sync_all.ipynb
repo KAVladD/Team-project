{
 "cells": [
  {
   "cell_type": "code",
   "execution_count": 53,
   "metadata": {},
   "outputs": [
    {
     "name": "stderr",
     "output_type": "stream",
     "text": [
      "c:\\Users\\fixen\\anaconda3\\lib\\site-packages\\numpy\\core\\fromnumeric.py:3504: RuntimeWarning: Mean of empty slice.\n",
      "  return _methods._mean(a, axis=axis, dtype=dtype,\n",
      "c:\\Users\\fixen\\anaconda3\\lib\\site-packages\\numpy\\core\\_methods.py:129: RuntimeWarning: invalid value encountered in scalar divide\n",
      "  ret = ret.dtype.type(ret / rcount)\n"
     ]
    }
   ],
   "source": [
    "import numpy as np\n",
    "import scipy as sp\n",
    "import pandas as pd\n",
    "import matplotlib.pyplot as plt\n",
    "import json\n",
    "import math\n",
    "from draw_signal import draw_signal\n",
    "from scipy.signal import find_peaks, argrelextrema\n",
    "import os\n",
    "\n",
    "from sync_two_signals import *\n",
    "\n",
    "path = 'C:\\\\Users\\\\fixen\\\\'\n",
    "\n",
    "nums_of_patients = list(range(83, 98))\n",
    "\n",
    "# Remove patients with missing data\n",
    "for i in [84, 88, 89, 90, 94]:\n",
    "    nums_of_patients.remove(i)\n",
    "\n",
    "sync_data = {}\n",
    "for num in nums_of_patients:\n",
    "    path_to_lm = path + f'Documents\\\\BMSTU\\\\PD\\\\Release_v1\\\\patient{num}\\\\hand\\\\'\n",
    "    path_to_mp = path + f'Videos\\\\PD hand videos\\\\patient{num}\\\\'\n",
    "    \n",
    "    sync_data[num] = {'1_L': {'AVG_DELTA_AMPL': None,\n",
    "                              'AVG_DELTA_PERIOD': None},\n",
    "                     '1_R': {'AVG_DELTA_AMPL': None,\n",
    "                             'AVG_DELTA_PERIOD': None}}\n",
    "    # Sync signals\n",
    "    for i in [1, 2]:\n",
    "        for side in ['L', 'R']:\n",
    "            try:\n",
    "                sync_data[num][f'1_{side}']['AVG_DELTA_AMPL'], \\\n",
    "                sync_data[num][f'1_{side}']['AVG_DELTA_PERIOD'] = sync_two_signals(path_to_signal_from_LM = path_to_lm + f'leapRecording1_{side}_m{i}_patient{num}.json',path_to_signal_from_MP = path_to_mp + f'm{i}\\\\1_{side}.npy')\n",
    "            except:\n",
    "                pass"
   ]
  },
  {
   "cell_type": "code",
   "execution_count": 54,
   "metadata": {},
   "outputs": [
    {
     "data": {
      "text/plain": [
       "{83: {'1_L': {'AVG_DELTA_AMPL': 0.30014814200839035,\n",
       "   'AVG_DELTA_PERIOD': 0.11209661835748792},\n",
       "  '1_R': {'AVG_DELTA_AMPL': -0.06279560422397648,\n",
       "   'AVG_DELTA_PERIOD': 0.11293025362318843}},\n",
       " 85: {'1_L': {'AVG_DELTA_AMPL': 0.32797733807011303,\n",
       "   'AVG_DELTA_PERIOD': 0.24141170155662905},\n",
       "  '1_R': {'AVG_DELTA_AMPL': 0.44871067859499747,\n",
       "   'AVG_DELTA_PERIOD': 0.1802996806681405}},\n",
       " 86: {'1_L': {'AVG_DELTA_AMPL': 0.37380705949023735,\n",
       "   'AVG_DELTA_PERIOD': 0.2830712303422757},\n",
       "  '1_R': {'AVG_DELTA_AMPL': 0.6292421345337006,\n",
       "   'AVG_DELTA_PERIOD': 0.3570487483530962}},\n",
       " 87: {'1_L': {'AVG_DELTA_AMPL': 0.026830483443614533,\n",
       "   'AVG_DELTA_PERIOD': 0.12779973649538867},\n",
       "  '1_R': {'AVG_DELTA_AMPL': 0.2517936844770756,\n",
       "   'AVG_DELTA_PERIOD': 0.11948950897685486}},\n",
       " 91: {'1_L': {'AVG_DELTA_AMPL': 0.4979002266038926,\n",
       "   'AVG_DELTA_PERIOD': 0.2379473528541852},\n",
       "  '1_R': {'AVG_DELTA_AMPL': 0.15418061796530558,\n",
       "   'AVG_DELTA_PERIOD': 0.16524422973698338}},\n",
       " 92: {'1_L': {'AVG_DELTA_AMPL': 0.2868575964654657,\n",
       "   'AVG_DELTA_PERIOD': 0.2587544065804935},\n",
       "  '1_R': {'AVG_DELTA_AMPL': 0.27751776567916003,\n",
       "   'AVG_DELTA_PERIOD': 0.09982608695652179}},\n",
       " 93: {'1_L': {'AVG_DELTA_AMPL': 0.3244281905098654,\n",
       "   'AVG_DELTA_PERIOD': 0.28103519668737054},\n",
       "  '1_R': {'AVG_DELTA_AMPL': 0.2123089379909614,\n",
       "   'AVG_DELTA_PERIOD': 0.21591361182154017}},\n",
       " 95: {'1_L': {'AVG_DELTA_AMPL': -0.049666080434978194,\n",
       "   'AVG_DELTA_PERIOD': 0.09333333333333335},\n",
       "  '1_R': {'AVG_DELTA_AMPL': 0.11483712624525091,\n",
       "   'AVG_DELTA_PERIOD': 0.1169165417291354}},\n",
       " 96: {'1_L': {'AVG_DELTA_AMPL': 0.01610012311551529,\n",
       "   'AVG_DELTA_PERIOD': 0.10522774327122152},\n",
       "  '1_R': {'AVG_DELTA_AMPL': 0.1396904230530277,\n",
       "   'AVG_DELTA_PERIOD': 0.13723320158102764}},\n",
       " 97: {'1_L': {'AVG_DELTA_AMPL': -0.02152822799266582,\n",
       "   'AVG_DELTA_PERIOD': 0.04009661835748793},\n",
       "  '1_R': {'AVG_DELTA_AMPL': 0.17288846259370558,\n",
       "   'AVG_DELTA_PERIOD': 0.0993022007514761}}}"
      ]
     },
     "execution_count": 54,
     "metadata": {},
     "output_type": "execute_result"
    }
   ],
   "source": [
    "sync_data"
   ]
  }
 ],
 "metadata": {
  "kernelspec": {
   "display_name": "base",
   "language": "python",
   "name": "python3"
  },
  "language_info": {
   "codemirror_mode": {
    "name": "ipython",
    "version": 3
   },
   "file_extension": ".py",
   "mimetype": "text/x-python",
   "name": "python",
   "nbconvert_exporter": "python",
   "pygments_lexer": "ipython3",
   "version": "3.9.19"
  }
 },
 "nbformat": 4,
 "nbformat_minor": 2
}
